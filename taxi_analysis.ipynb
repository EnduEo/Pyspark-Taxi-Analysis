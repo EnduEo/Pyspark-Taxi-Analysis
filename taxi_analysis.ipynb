{
 "cells": [
  {
   "cell_type": "code",
   "execution_count": 28,
   "metadata": {},
   "outputs": [],
   "source": [
    "from bs4 import BeautifulSoup\n",
    "from datetime import datetime\n",
    "from pyspark.sql import SparkSession\n",
    "from pyspark.sql.functions import mean,stddev\n",
    "import custom_pckgs.webscrapingFuncs as _scraping"
   ]
  },
  {
   "cell_type": "code",
   "execution_count": 29,
   "metadata": {},
   "outputs": [],
   "source": [
    "#Link in format link = \"https://xyz.cloudfront.net/trip-data/yellow_tripdata_YYYY-MM.parquet\"\n",
    "def get_date_from_link(link): \n",
    "    date_str = link.split('_')[-1].split('.')[0]#Gets YYYY-MM from the link\n",
    "    split_date = date_str.split('-')\n",
    "    year = split_date[0]\n",
    "    month = split_date[1]\n",
    "    year_month = int(year + month) #Integer date in format YYYYMM\n",
    "    return year_month"
   ]
  },
  {
   "cell_type": "code",
   "execution_count": 30,
   "metadata": {},
   "outputs": [],
   "source": [
    "def validate_date(date_str):\n",
    "    try:\n",
    "        datetime.strptime(date_str, \"%Y-%m\")####YYYY-MM Format expected\n",
    "    except Exception as e:\n",
    "        raise Exception(f\"Invalid date format. Expected format is YYYY-MM.\")"
   ]
  },
  {
   "cell_type": "code",
   "execution_count": 31,
   "metadata": {},
   "outputs": [],
   "source": [
    "def download_taxi_files(start_date, end_date):\n",
    "    validate_date(start_date)\n",
    "    validate_date(end_date)\n",
    "\n",
    "    base_url = 'https://www.nyc.gov/site/tlc/about/tlc-trip-record-data.page'\n",
    "    yellow_taxi_links = []\t\n",
    "    \n",
    "    start_date_int = int(start_date.replace('-', '')) #Converts to YYYYMM integer\n",
    "    end_date_int = int(end_date.replace('-', '')) #Converts to YYYYMM integer\n",
    "    \n",
    "    page = _scraping.page_requester(base_url)\n",
    "    soup = BeautifulSoup(page.content, 'html.parser')\n",
    "    file_table = soup.find('div', class_='faq-v1')# Gets table where all files are listed\n",
    "    yearly_files=file_table.find_all('div', class_='faq-answers') #Gets all files year by year\n",
    "    for year in yearly_files:\n",
    "        a_tags = year.find_all('a', href=True)\n",
    "        for a_tag in a_tags:\n",
    "            link = a_tag['href'] #Filters file links for yellow taxis between the date interval\n",
    "            if 'yellow_tripdata' in link and (start_date_int <= get_date_from_link(link) <= end_date_int):\n",
    "                clean_link = link.strip()#Some links have trailing spaces\n",
    "                _scraping.download_file(clean_link)\n",
    "                yellow_taxi_links.append(clean_link)\n",
    "    return yellow_taxi_links"
   ]
  },
  {
   "cell_type": "code",
   "execution_count": 32,
   "metadata": {},
   "outputs": [],
   "source": [
    "yellow_taxi_links = download_taxi_files('2024-10', '2024-12')"
   ]
  },
  {
   "cell_type": "code",
   "execution_count": null,
   "metadata": {},
   "outputs": [],
   "source": [
    "#Initiating SparkSession and dataset_path\n",
    "spark = SparkSession.builder.appName(\"SparkExercise\").getOrCreate()\n",
    "dataset_path = \"./dataset/\""
   ]
  },
  {
   "cell_type": "code",
   "execution_count": 7,
   "metadata": {},
   "outputs": [],
   "source": [
    "df = spark.read.parquet(dataset_path)"
   ]
  },
  {
   "cell_type": "markdown",
   "metadata": {},
   "source": [
    "Data exploration"
   ]
  },
  {
   "cell_type": "code",
   "execution_count": null,
   "metadata": {},
   "outputs": [],
   "source": [
    "df.printSchema()"
   ]
  },
  {
   "cell_type": "code",
   "execution_count": null,
   "metadata": {},
   "outputs": [],
   "source": [
    "df.show()"
   ]
  },
  {
   "cell_type": "markdown",
   "metadata": {},
   "source": [
    "Top 10 % trips based on trip_distance"
   ]
  },
  {
   "cell_type": "code",
   "execution_count": null,
   "metadata": {},
   "outputs": [],
   "source": [
    "row_count = df.count()\n",
    "\n",
    "top10_percent_count = int(row_count * 0.1)\n",
    "\n",
    "sorted_df = df.orderBy(\"trip_distance\", ascending=False)\n",
    "\n",
    "#Get top 10% of trips based on trip distance\n",
    "top10_percent_df = sorted_df.limit(top10_percent_count)"
   ]
  },
  {
   "cell_type": "code",
   "execution_count": null,
   "metadata": {},
   "outputs": [],
   "source": [
    "top10_percent_df.show() #Sample"
   ]
  },
  {
   "cell_type": "code",
   "execution_count": null,
   "metadata": {},
   "outputs": [],
   "source": [
    "#Stats for total_amount column\n",
    "top10_percent_df.describe('total_amount').show()"
   ]
  },
  {
   "cell_type": "code",
   "execution_count": null,
   "metadata": {},
   "outputs": [],
   "source": [
    "top10_percent_df.filter(top10_percent_df[\"total_amount\"].isNull()).count() #No null values -> 0"
   ]
  },
  {
   "cell_type": "code",
   "execution_count": null,
   "metadata": {},
   "outputs": [],
   "source": [
    "top10_percent_df.filter(top10_percent_df[\"total_amount\"] < 0).count() #Negative and 0 values present, might be due to refunds, promotional discounts or data errors"
   ]
  },
  {
   "cell_type": "markdown",
   "metadata": {},
   "source": [
    "Data Quality & Cleaning"
   ]
  },
  {
   "cell_type": "code",
   "execution_count": 15,
   "metadata": {},
   "outputs": [],
   "source": [
    "# 0 or negative values will be filtered out as there is not any specification on the dataset about the meaning of these values\n",
    "positive_total_df = top10_percent_df.filter(top10_percent_df[\"total_amount\"] > 0)"
   ]
  },
  {
   "cell_type": "code",
   "execution_count": null,
   "metadata": {},
   "outputs": [],
   "source": [
    "positive_total_df.describe('total_amount').show() #Stats \n",
    "#Total amount might be affected buy outliers as the maximum value is way higher than the avg, so we could filter out if needed."
   ]
  },
  {
   "cell_type": "markdown",
   "metadata": {},
   "source": [
    "###### Next block is OPTIONAL because high amount might be reasonable with the trip distance(but trip distance values are really high so they could be incorrect)"
   ]
  },
  {
   "cell_type": "code",
   "execution_count": 17,
   "metadata": {},
   "outputs": [],
   "source": [
    "avg = positive_total_df.agg(mean(\"total_amount\"))\n",
    "sttdev = positive_total_df.agg(stddev(\"total_amount\"))"
   ]
  },
  {
   "cell_type": "code",
   "execution_count": 18,
   "metadata": {},
   "outputs": [],
   "source": [
    "#Filter outliers based on avg and standard deviation, in this case lower interval does not filter values as we had removed negative values\n",
    "cleaned_df = positive_total_df.filter(\n",
    "    (positive_total_df[\"total_amount\"] >= avg.collect()[0][0] - 3 * sttdev.collect()[0][0]) &\n",
    "    (positive_total_df[\"total_amount\"] <= avg.collect()[0][0] + 3 * sttdev.collect()[0][0])\n",
    ")"
   ]
  },
  {
   "cell_type": "markdown",
   "metadata": {},
   "source": [
    "Final result"
   ]
  },
  {
   "cell_type": "code",
   "execution_count": null,
   "metadata": {},
   "outputs": [],
   "source": [
    "cleaned_df.describe('total_amount').show()"
   ]
  },
  {
   "cell_type": "code",
   "execution_count": null,
   "metadata": {},
   "outputs": [],
   "source": [
    "cleaned_df.show()"
   ]
  }
 ],
 "metadata": {
  "kernelspec": {
   "display_name": "Python 3",
   "language": "python",
   "name": "python3"
  },
  "language_info": {
   "codemirror_mode": {
    "name": "ipython",
    "version": 3
   },
   "file_extension": ".py",
   "mimetype": "text/x-python",
   "name": "python",
   "nbconvert_exporter": "python",
   "pygments_lexer": "ipython3",
   "version": "3.11.1"
  }
 },
 "nbformat": 4,
 "nbformat_minor": 2
}
