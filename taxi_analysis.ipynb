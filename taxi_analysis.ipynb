{
 "cells": [
  {
   "cell_type": "code",
   "execution_count": 1,
   "metadata": {},
   "outputs": [],
   "source": [
    "from bs4 import BeautifulSoup\n",
    "from datetime import datetime\n",
    "from pyspark.sql import SparkSession\n",
    "from pyspark.sql.functions import mean,stddev\n",
    "import custom_pckgs.webscrapingFuncs as _scraping"
   ]
  },
  {
   "cell_type": "code",
   "execution_count": 2,
   "metadata": {},
   "outputs": [],
   "source": [
    "#Link in format link = \"https://xyz.cloudfront.net/trip-data/yellow_tripdata_YYYY-MM.parquet\"\n",
    "def get_date_from_link(link): \n",
    "    date_str = link.split('_')[-1].split('.')[0]#Gets YYYY-MM from the link\n",
    "    split_date = date_str.split('-')\n",
    "    year = split_date[0]\n",
    "    month = split_date[1]\n",
    "    year_month = int(year + month) #Integer date in format YYYYMM\n",
    "    return year_month"
   ]
  },
  {
   "cell_type": "code",
   "execution_count": 3,
   "metadata": {},
   "outputs": [],
   "source": [
    "def validate_date(date_str):\n",
    "    try:\n",
    "        datetime.strptime(date_str, \"%Y-%m\")####YYYY-MM Format expected\n",
    "    except Exception as e:\n",
    "        raise Exception(f\"Invalid date format. Expected format is YYYY-MM.\")"
   ]
  },
  {
   "cell_type": "code",
   "execution_count": 4,
   "metadata": {},
   "outputs": [],
   "source": [
    "def download_taxi_files(start_date, end_date):\n",
    "    validate_date(start_date)\n",
    "    validate_date(end_date)\n",
    "\n",
    "    base_url = 'https://www.nyc.gov/site/tlc/about/tlc-trip-record-data.page'\n",
    "    yellow_taxi_links = []\t\n",
    "    \n",
    "    start_date_int = int(start_date.replace('-', '')) #Converts to YYYYMM integer\n",
    "    end_date_int = int(end_date.replace('-', '')) #Converts to YYYYMM integer\n",
    "    \n",
    "    page = _scraping.page_requester(base_url)\n",
    "    soup = BeautifulSoup(page.content, 'html.parser')\n",
    "    file_table = soup.find('div', class_='faq-v1')# Gets table where all files are listed\n",
    "    yearly_files=file_table.find_all('div', class_='faq-answers') #Gets all files year by year\n",
    "    for year in yearly_files:\n",
    "        a_tags = year.find_all('a', href=True)\n",
    "        for a_tag in a_tags:\n",
    "            link = a_tag['href'] #Filters file links for yellow taxis between the date interval\n",
    "            if 'yellow_tripdata' in link and (start_date_int <= get_date_from_link(link) <= end_date_int):\n",
    "                clean_link = link.strip()#Some links have trailing spaces\n",
    "                _scraping.download_file(clean_link)\n",
    "                yellow_taxi_links.append(clean_link)\n",
    "    return yellow_taxi_links"
   ]
  },
  {
   "cell_type": "code",
   "execution_count": 5,
   "metadata": {},
   "outputs": [],
   "source": [
    "yellow_taxi_links = download_taxi_files('2024-10', '2024-12')"
   ]
  },
  {
   "cell_type": "code",
   "execution_count": 6,
   "metadata": {},
   "outputs": [],
   "source": [
    "#Initiating SparkSession and dataset_path\n",
    "spark = SparkSession.builder.appName(\"SparkExercise\").getOrCreate()\n",
    "dataset_path = \"./dataset/\""
   ]
  },
  {
   "cell_type": "code",
   "execution_count": 7,
   "metadata": {},
   "outputs": [],
   "source": [
    "df = spark.read.parquet(dataset_path)"
   ]
  },
  {
   "cell_type": "markdown",
   "metadata": {},
   "source": [
    "Data exploration"
   ]
  },
  {
   "cell_type": "code",
   "execution_count": 8,
   "metadata": {},
   "outputs": [
    {
     "name": "stdout",
     "output_type": "stream",
     "text": [
      "root\n",
      " |-- VendorID: integer (nullable = true)\n",
      " |-- tpep_pickup_datetime: timestamp_ntz (nullable = true)\n",
      " |-- tpep_dropoff_datetime: timestamp_ntz (nullable = true)\n",
      " |-- passenger_count: long (nullable = true)\n",
      " |-- trip_distance: double (nullable = true)\n",
      " |-- RatecodeID: long (nullable = true)\n",
      " |-- store_and_fwd_flag: string (nullable = true)\n",
      " |-- PULocationID: integer (nullable = true)\n",
      " |-- DOLocationID: integer (nullable = true)\n",
      " |-- payment_type: long (nullable = true)\n",
      " |-- fare_amount: double (nullable = true)\n",
      " |-- extra: double (nullable = true)\n",
      " |-- mta_tax: double (nullable = true)\n",
      " |-- tip_amount: double (nullable = true)\n",
      " |-- tolls_amount: double (nullable = true)\n",
      " |-- improvement_surcharge: double (nullable = true)\n",
      " |-- total_amount: double (nullable = true)\n",
      " |-- congestion_surcharge: double (nullable = true)\n",
      " |-- Airport_fee: double (nullable = true)\n",
      "\n"
     ]
    }
   ],
   "source": [
    "df.printSchema()"
   ]
  },
  {
   "cell_type": "code",
   "execution_count": 9,
   "metadata": {},
   "outputs": [
    {
     "name": "stdout",
     "output_type": "stream",
     "text": [
      "+--------+--------------------+---------------------+---------------+-------------+----------+------------------+------------+------------+------------+-----------+-----+-------+----------+------------+---------------------+------------+--------------------+-----------+\n",
      "|VendorID|tpep_pickup_datetime|tpep_dropoff_datetime|passenger_count|trip_distance|RatecodeID|store_and_fwd_flag|PULocationID|DOLocationID|payment_type|fare_amount|extra|mta_tax|tip_amount|tolls_amount|improvement_surcharge|total_amount|congestion_surcharge|Airport_fee|\n",
      "+--------+--------------------+---------------------+---------------+-------------+----------+------------------+------------+------------+------------+-----------+-----+-------+----------+------------+---------------------+------------+--------------------+-----------+\n",
      "|       2| 2024-10-01 00:30:44|  2024-10-01 00:48:26|              1|          3.0|         1|                 N|         162|         246|           1|       18.4|  1.0|    0.5|       1.5|         0.0|                  1.0|        24.9|                 2.5|        0.0|\n",
      "|       1| 2024-10-01 00:12:20|  2024-10-01 00:25:25|              1|          2.2|         1|                 N|          48|         236|           1|       14.2|  3.5|    0.5|       3.8|         0.0|                  1.0|        23.0|                 2.5|        0.0|\n",
      "|       1| 2024-10-01 00:04:46|  2024-10-01 00:13:52|              1|          2.7|         1|                 N|         142|          24|           1|       13.5|  3.5|    0.5|       3.7|         0.0|                  1.0|        22.2|                 2.5|        0.0|\n",
      "|       1| 2024-10-01 00:12:10|  2024-10-01 00:23:01|              1|          3.1|         1|                 N|         233|          75|           1|       14.2|  3.5|    0.5|       2.0|         0.0|                  1.0|        21.2|                 2.5|        0.0|\n",
      "|       1| 2024-10-01 00:30:22|  2024-10-01 00:30:39|              1|          0.0|         1|                 N|         262|         262|           3|        3.0|  3.5|    0.5|       0.0|         0.0|                  1.0|         8.0|                 2.5|        0.0|\n",
      "|       2| 2024-10-01 00:31:20|  2024-10-01 00:36:00|              2|         0.97|         1|                 N|         137|         137|           1|        7.2|  1.0|    0.5|      2.44|         0.0|                  1.0|       14.64|                 2.5|        0.0|\n",
      "|       1| 2024-10-01 00:42:57|  2024-10-01 00:49:01|              1|          1.3|         1|                 N|         142|          48|           1|        7.9|  3.5|    0.5|      2.55|         0.0|                  1.0|       15.45|                 2.5|        0.0|\n",
      "|       1| 2024-10-01 00:59:55|  2024-10-01 01:02:24|              1|          0.5|         1|                 N|         230|         161|           1|        5.1|  3.5|    0.5|       2.0|         0.0|                  1.0|        12.1|                 2.5|        0.0|\n",
      "|       1| 2024-10-01 00:00:47|  2024-10-01 00:04:22|              0|          1.1|         1|                 N|         142|         237|           1|        7.2|  3.5|    0.5|       3.0|         0.0|                  1.0|        15.2|                 2.5|        0.0|\n",
      "|       1| 2024-10-01 00:17:36|  2024-10-01 00:26:22|              1|          2.2|         1|                 N|         162|         145|           1|       11.4|  3.5|    0.5|       3.3|         0.0|                  1.0|        19.7|                 2.5|        0.0|\n",
      "|       1| 2024-10-01 00:49:00|  2024-10-01 00:52:20|              1|          0.6|         1|                 N|         229|         162|           1|        5.1|  3.5|    0.5|       2.0|         0.0|                  1.0|        12.1|                 2.5|        0.0|\n",
      "|       2| 2024-10-01 00:07:26|  2024-10-01 00:13:20|              1|          0.9|         1|                 N|         162|         162|           1|        7.9|  1.0|    0.5|      3.87|         0.0|                  1.0|       16.77|                 2.5|        0.0|\n",
      "|       2| 2024-10-01 00:17:11|  2024-10-01 00:25:00|              1|         1.33|         1|                 N|         162|         230|           1|        9.3|  1.0|    0.5|       2.0|         0.0|                  1.0|        16.3|                 2.5|        0.0|\n",
      "|       2| 2024-10-01 00:00:34|  2024-10-01 00:05:13|              1|         1.79|         1|                 N|         211|         234|           1|        9.3|  1.0|    0.5|      2.86|         0.0|                  1.0|       17.16|                 2.5|        0.0|\n",
      "|       2| 2024-09-30 23:58:40|  2024-10-01 00:20:26|              1|         5.16|         1|                 N|         142|           7|           1|       24.7|  1.0|    0.5|       0.0|         0.0|                  1.0|        29.7|                 2.5|        0.0|\n",
      "|       1| 2024-10-01 00:55:29|  2024-10-01 01:42:35|              1|         11.3|        99|                 N|         161|         197|           1|       39.5|  0.0|    0.5|       0.0|        6.94|                  1.0|       47.94|                 0.0|        0.0|\n",
      "|       1| 2024-10-01 00:08:59|  2024-10-01 00:40:58|              1|         20.6|         1|                 N|         132|         243|           2|       76.5| 2.75|    0.5|       0.0|        6.94|                  1.0|       87.69|                 0.0|       1.75|\n",
      "|       2| 2024-10-01 00:18:38|  2024-10-01 00:36:47|              2|         7.42|         1|                 N|         239|         247|           4|      -33.1| -1.0|   -0.5|       0.0|         0.0|                 -1.0|       -38.1|                -2.5|        0.0|\n",
      "|       2| 2024-10-01 00:18:38|  2024-10-01 00:36:47|              2|         7.42|         1|                 N|         239|         247|           4|       33.1|  1.0|    0.5|       0.0|         0.0|                  1.0|        38.1|                 2.5|        0.0|\n",
      "|       2| 2024-10-01 00:39:33|  2024-10-01 00:53:59|              1|         4.49|         1|                 N|         247|          60|           2|       21.9|  1.0|    0.5|       0.0|         0.0|                  1.0|        24.4|                 0.0|        0.0|\n",
      "+--------+--------------------+---------------------+---------------+-------------+----------+------------------+------------+------------+------------+-----------+-----+-------+----------+------------+---------------------+------------+--------------------+-----------+\n",
      "only showing top 20 rows\n",
      "\n"
     ]
    }
   ],
   "source": [
    "df.show()"
   ]
  },
  {
   "cell_type": "markdown",
   "metadata": {},
   "source": [
    "Top 10 % trips based on trip_distance"
   ]
  },
  {
   "cell_type": "code",
   "execution_count": 10,
   "metadata": {},
   "outputs": [],
   "source": [
    "row_count = df.count()\n",
    "\n",
    "top10_percent_count = int(row_count * 0.1)\n",
    "\n",
    "sorted_df = df.orderBy(\"trip_distance\", ascending=False)\n",
    "\n",
    "#Get top 10% of trips based on trip distance\n",
    "top10_percent_df = sorted_df.limit(top10_percent_count)"
   ]
  },
  {
   "cell_type": "code",
   "execution_count": 11,
   "metadata": {},
   "outputs": [
    {
     "name": "stdout",
     "output_type": "stream",
     "text": [
      "+--------+--------------------+---------------------+---------------+-------------+----------+------------------+------------+------------+------------+-----------+-----+-------+----------+------------+---------------------+------------+--------------------+-----------+\n",
      "|VendorID|tpep_pickup_datetime|tpep_dropoff_datetime|passenger_count|trip_distance|RatecodeID|store_and_fwd_flag|PULocationID|DOLocationID|payment_type|fare_amount|extra|mta_tax|tip_amount|tolls_amount|improvement_surcharge|total_amount|congestion_surcharge|Airport_fee|\n",
      "+--------+--------------------+---------------------+---------------+-------------+----------+------------------+------------+------------+------------+-----------+-----+-------+----------+------------+---------------------+------------+--------------------+-----------+\n",
      "|       2| 2024-11-28 19:28:00|  2024-11-28 19:42:00|           null|    398608.62|      null|              null|         151|         140|           0|      22.04|  0.0|    0.5|       0.0|         0.0|                  1.0|       26.04|                null|       null|\n",
      "|       2| 2024-10-16 17:24:00|  2024-10-16 17:59:00|           null|    366343.04|      null|              null|          48|         186|           0|      22.06|  0.0|    0.5|       0.0|         0.0|                  1.0|       26.06|                null|       null|\n",
      "|       2| 2024-10-03 06:52:00|  2024-10-03 07:01:00|           null|    331688.82|      null|              null|         143|         237|           0|      10.88|  0.0|    0.5|       0.0|         0.0|                  1.0|       14.88|                null|       null|\n",
      "|       2| 2024-11-18 06:24:00|  2024-11-18 06:47:00|           null|    324219.56|      null|              null|         179|         100|           0|      24.63|  0.0|    0.5|       0.0|        6.94|                  1.0|       35.57|                null|       null|\n",
      "|       2| 2024-11-15 06:45:00|  2024-11-15 07:01:00|           null|     323803.0|      null|              null|         229|          75|           0|       -3.0|  0.0|    0.5|       0.0|         0.0|                  1.0|         1.0|                null|       null|\n",
      "|       2| 2024-10-15 23:54:00|  2024-10-16 00:02:00|           null|    319111.84|      null|              null|         234|          79|           0|      11.39|  0.0|    0.5|       0.0|         0.0|                  1.0|       15.39|                null|       null|\n",
      "|       2| 2024-10-10 20:42:00|  2024-10-10 20:51:00|           null|    318500.89|      null|              null|         161|          43|           0|      12.72|  0.0|    0.5|       0.0|         0.0|                  1.0|       16.72|                null|       null|\n",
      "|       2| 2024-11-24 06:14:00|  2024-11-24 06:27:00|           null|    272044.78|      null|              null|         148|         140|           0|      23.63|  0.0|    0.5|       2.0|         0.0|                  1.0|       29.63|                null|       null|\n",
      "|       2| 2024-11-01 14:27:00|  2024-11-01 14:39:00|           null|    234549.19|      null|              null|         239|         236|           0|      14.36|  0.0|    0.5|       0.0|         0.0|                  1.0|       18.36|                null|       null|\n",
      "|       2| 2024-10-04 19:10:00|  2024-10-04 19:24:00|           null|    222376.21|      null|              null|          68|         170|           0|      14.16|  0.0|    0.5|       0.0|         0.0|                  1.0|       18.16|                null|       null|\n",
      "|       2| 2024-11-19 08:37:00|  2024-11-19 09:01:00|           null|    183507.04|      null|              null|          97|         137|           0|      27.14|  0.0|    0.5|      6.23|         0.0|                  1.0|       37.37|                null|       null|\n",
      "|       2| 2024-11-13 07:59:00|  2024-11-13 08:03:00|           null|     174109.4|      null|              null|         239|         239|           0|       9.22|  0.0|    0.5|       0.0|         0.0|                  1.0|       13.22|                null|       null|\n",
      "|       2| 2024-11-23 20:40:00|  2024-11-23 20:53:00|           null|    172686.83|      null|              null|         261|          68|           0|      20.92|  0.0|    0.5|       0.0|         0.0|                  1.0|       24.92|                null|       null|\n",
      "|       2| 2024-11-17 18:08:00|  2024-11-17 18:22:00|           null|    171664.82|      null|              null|         137|         229|           0|      -1.86|  0.0|    0.5|       0.0|         0.0|                  1.0|        2.14|                null|       null|\n",
      "|       2| 2024-10-18 05:58:48|  2024-10-18 07:16:47|              1|    160244.91|         5|                 N|         181|         132|           1|      51.13|  0.0|    0.5|     12.63|         0.0|                  1.0|       65.26|                 0.0|        0.0|\n",
      "|       2| 2024-10-15 10:17:00|  2024-10-15 10:26:00|           null|    151827.64|      null|              null|          79|         113|           0|       7.41|  0.0|    0.5|       0.0|         0.0|                  1.0|       11.41|                null|       null|\n",
      "|       2| 2024-10-18 05:41:00|  2024-10-18 05:44:00|           null|    148154.85|      null|              null|         238|         142|           0|        8.2|  0.0|    0.5|       0.0|         0.0|                  1.0|        12.2|                null|       null|\n",
      "|       2| 2024-10-10 23:01:00|  2024-10-10 23:13:00|           null|    126036.33|      null|              null|         164|          48|           0|      16.99|  0.0|    0.5|       0.0|         0.0|                  1.0|       20.99|                null|       null|\n",
      "|       2| 2024-11-14 04:56:00|  2024-11-14 05:06:00|           null|    124548.05|      null|              null|         229|         100|           0|       8.87|  0.0|    0.5|       0.0|         0.0|                  1.0|       12.87|                null|       null|\n",
      "|       2| 2024-11-04 05:02:00|  2024-11-04 05:08:00|           null|    122613.76|      null|              null|         140|         263|           0|       9.79|  0.0|    0.5|       0.0|         0.0|                  1.0|       13.79|                null|       null|\n",
      "+--------+--------------------+---------------------+---------------+-------------+----------+------------------+------------+------------+------------+-----------+-----+-------+----------+------------+---------------------+------------+--------------------+-----------+\n",
      "only showing top 20 rows\n",
      "\n"
     ]
    }
   ],
   "source": [
    "top10_percent_df.show() #Sample"
   ]
  },
  {
   "cell_type": "code",
   "execution_count": 12,
   "metadata": {},
   "outputs": [
    {
     "name": "stdout",
     "output_type": "stream",
     "text": [
      "+-------+------------------+\n",
      "|summary|      total_amount|\n",
      "+-------+------------------+\n",
      "|  count|            748014|\n",
      "|   mean| 78.74998038813133|\n",
      "| stddev|36.389930487574134|\n",
      "|    min|          -1477.68|\n",
      "|    max|           1690.89|\n",
      "+-------+------------------+\n",
      "\n"
     ]
    }
   ],
   "source": [
    "#Stats for total_amount column\n",
    "top10_percent_df.describe('total_amount').show()"
   ]
  },
  {
   "cell_type": "code",
   "execution_count": 13,
   "metadata": {},
   "outputs": [
    {
     "data": {
      "text/plain": [
       "0"
      ]
     },
     "execution_count": 13,
     "metadata": {},
     "output_type": "execute_result"
    }
   ],
   "source": [
    "top10_percent_df.filter(top10_percent_df[\"total_amount\"].isNull()).count() #No null values -> 0"
   ]
  },
  {
   "cell_type": "code",
   "execution_count": 14,
   "metadata": {},
   "outputs": [
    {
     "data": {
      "text/plain": [
       "16014"
      ]
     },
     "execution_count": 14,
     "metadata": {},
     "output_type": "execute_result"
    }
   ],
   "source": [
    "top10_percent_df.filter(top10_percent_df[\"total_amount\"] < 0).count() #Negative and 0 values present, might be due to refunds, promotional discounts or data errors"
   ]
  },
  {
   "cell_type": "markdown",
   "metadata": {},
   "source": [
    "Data Quality & Cleaning"
   ]
  },
  {
   "cell_type": "code",
   "execution_count": 15,
   "metadata": {},
   "outputs": [],
   "source": [
    "# 0 or negative values will be filtered out as there is not any specification on the dataset about the meaning of these values\n",
    "positive_total_df = top10_percent_df.filter(top10_percent_df[\"total_amount\"] > 0)"
   ]
  },
  {
   "cell_type": "code",
   "execution_count": 16,
   "metadata": {},
   "outputs": [
    {
     "name": "stdout",
     "output_type": "stream",
     "text": [
      "+-------+------------------+\n",
      "|summary|      total_amount|\n",
      "+-------+------------------+\n",
      "|  count|            731960|\n",
      "|   mean| 82.19611481508397|\n",
      "| stddev|27.696012870407383|\n",
      "|    min|              0.01|\n",
      "|    max|           1690.89|\n",
      "+-------+------------------+\n",
      "\n"
     ]
    }
   ],
   "source": [
    "positive_total_df.describe('total_amount').show() #Stats \n",
    "#Total amount might be affected buy outliers as the maximum value is way higher than the avg, so we could filter out if needed."
   ]
  },
  {
   "cell_type": "markdown",
   "metadata": {},
   "source": [
    "###### Next block is OPTIONAL because high amount might be reasonable with the trip distance(but trip distance values are really high so they could be incorrect)"
   ]
  },
  {
   "cell_type": "code",
   "execution_count": 17,
   "metadata": {},
   "outputs": [],
   "source": [
    "avg = positive_total_df.agg(mean(\"total_amount\"))\n",
    "sttdev = positive_total_df.agg(stddev(\"total_amount\"))"
   ]
  },
  {
   "cell_type": "code",
   "execution_count": 18,
   "metadata": {},
   "outputs": [],
   "source": [
    "#Filter outliers based on avg and standard deviation, in this case lower interval does not filter values as we had removed negative values\n",
    "cleaned_df = positive_total_df.filter(\n",
    "    (positive_total_df[\"total_amount\"] >= avg.collect()[0][0] - 3 * sttdev.collect()[0][0]) &\n",
    "    (positive_total_df[\"total_amount\"] <= avg.collect()[0][0] + 3 * sttdev.collect()[0][0])\n",
    ")"
   ]
  },
  {
   "cell_type": "markdown",
   "metadata": {},
   "source": [
    "Final result"
   ]
  },
  {
   "cell_type": "code",
   "execution_count": 19,
   "metadata": {},
   "outputs": [
    {
     "name": "stdout",
     "output_type": "stream",
     "text": [
      "+-------+-----------------+\n",
      "|summary|     total_amount|\n",
      "+-------+-----------------+\n",
      "|  count|           723423|\n",
      "|   mean|80.48891591786648|\n",
      "| stddev|21.49635956018364|\n",
      "|    min|             0.01|\n",
      "|    max|           165.25|\n",
      "+-------+-----------------+\n",
      "\n"
     ]
    }
   ],
   "source": [
    "cleaned_df.describe('total_amount').show()"
   ]
  },
  {
   "cell_type": "code",
   "execution_count": null,
   "metadata": {},
   "outputs": [],
   "source": [
    "cleaned_df.show()"
   ]
  }
 ],
 "metadata": {
  "kernelspec": {
   "display_name": "Python 3",
   "language": "python",
   "name": "python3"
  },
  "language_info": {
   "codemirror_mode": {
    "name": "ipython",
    "version": 3
   },
   "file_extension": ".py",
   "mimetype": "text/x-python",
   "name": "python",
   "nbconvert_exporter": "python",
   "pygments_lexer": "ipython3",
   "version": "3.11.1"
  }
 },
 "nbformat": 4,
 "nbformat_minor": 2
}
